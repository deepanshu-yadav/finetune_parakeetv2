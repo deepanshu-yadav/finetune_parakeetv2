{
 "cells": [
  {
   "cell_type": "markdown",
   "id": "514c3f92-d348-4ba7-a975-faa208eba14b",
   "metadata": {},
   "source": [
    "# Download the Repositories"
   ]
  },
  {
   "cell_type": "code",
   "execution_count": null,
   "id": "27f7afe9-e7a0-4993-9c76-f528c25e7846",
   "metadata": {},
   "outputs": [],
   "source": [
    "! git clone https://github.com/deepanshu-yadav/finetune_parakeetv2.git"
   ]
  },
  {
   "cell_type": "code",
   "execution_count": null,
   "id": "760bf508-0376-4533-aa40-fd7e2a914c7b",
   "metadata": {},
   "outputs": [],
   "source": [
    "! git clone https://github.com/NVIDIA/NeMo.git"
   ]
  },
  {
   "cell_type": "markdown",
   "id": "75718af5-3f64-4105-8a25-b2e1cb35f1ad",
   "metadata": {},
   "source": [
    "# Install dependencies"
   ]
  },
  {
   "cell_type": "code",
   "execution_count": null,
   "id": "84dd3ffd-4774-467c-902f-75ab599b3f90",
   "metadata": {},
   "outputs": [],
   "source": [
    "!pip install -r finetune_parakeetv2/requirements.txt"
   ]
  },
  {
   "cell_type": "markdown",
   "id": "d26ce05b-1945-4cb3-ab54-45c851521b28",
   "metadata": {},
   "source": [
    "# Prepare manifests"
   ]
  },
  {
   "cell_type": "code",
   "execution_count": null,
   "id": "f7631135-e265-4d3c-ac19-8960a7e701f5",
   "metadata": {},
   "outputs": [],
   "source": [
    "! python finetune_parakeetv2/prepare_manifest.py"
   ]
  },
  {
   "cell_type": "markdown",
   "id": "48d70b7f-71b2-4225-a47c-9f29de374775",
   "metadata": {},
   "source": [
    "# Prepare tokenizers"
   ]
  },
  {
   "cell_type": "code",
   "execution_count": null,
   "id": "ebe37e79-ab1f-40ef-9474-cd0b2f5820c3",
   "metadata": {},
   "outputs": [],
   "source": [
    "! python NeMo/scripts/tokenizers/process_asr_text_tokenizer.py --manifest=train_manifest.json \\\n",
    "   --data_root=tokenizer_output --vocab_size=1024 --tokenizer=spe --spe_type=bpe  \\\n",
    "   --spe_character_coverage=1.0 --no_lower_case --log"
   ]
  },
  {
   "cell_type": "markdown",
   "id": "2790ddc2-2212-4a89-b5df-4346101287b4",
   "metadata": {},
   "source": [
    "# Try to run inference first"
   ]
  },
  {
   "cell_type": "code",
   "execution_count": null,
   "id": "9fd7bb21-f3f7-419c-a813-4d9590605f4c",
   "metadata": {},
   "outputs": [],
   "source": [
    "!python finetune_parakeetv2/try_nemo.py"
   ]
  },
  {
   "cell_type": "markdown",
   "id": "523c4f93-d879-497c-9324-93edb02988ef",
   "metadata": {},
   "source": [
    "# Do Fine-tuning"
   ]
  },
  {
   "cell_type": "code",
   "execution_count": null,
   "id": "92a95984-e76f-432c-81ba-ad494031dd78",
   "metadata": {},
   "outputs": [],
   "source": [
    "! cp finetune_parakeetv2/fast_conformer_ljspeech.yaml .\n",
    "! cp finetune_parakeetv2/train.py ."
   ]
  },
  {
   "cell_type": "code",
   "execution_count": null,
   "id": "df4f4508-b06c-4f7f-be9f-5262bbccd39b",
   "metadata": {},
   "outputs": [],
   "source": [
    "!python finetune_parakeetv2/train.py"
   ]
  }
 ],
 "metadata": {
  "kernelspec": {
   "display_name": "Python 3 (ipykernel)",
   "language": "python",
   "name": "python3"
  },
  "language_info": {
   "codemirror_mode": {
    "name": "ipython",
    "version": 3
   },
   "file_extension": ".py",
   "mimetype": "text/x-python",
   "name": "python",
   "nbconvert_exporter": "python",
   "pygments_lexer": "ipython3",
   "version": "3.10.9"
  }
 },
 "nbformat": 4,
 "nbformat_minor": 5
}
